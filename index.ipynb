{
 "cells": [
  {
   "cell_type": "markdown",
   "metadata": {},
   "source": [
    "# Conditional Probability - Lab\n",
    "\n",
    "## Introduction\n",
    "\n",
    "In order to be ready for real-world applications of probability, it is important to understand what happens when probabilities are not independent. Very often, the probability of a certain event depends on other events happening! Let's see how this all works in this lab.\n",
    "\n",
    "## Objectives\n",
    "\n",
    "You will be able to:\n",
    "\n",
    "* Differentiate between independent and dependent events\n",
    "* Use the multiplication rule to find the probability of the intersection of two events\n",
    "\n",
    "## Exercise 1\n",
    "A coin is tossed and a single 6-sided dice is rolled. Find the probability of landing on the head side of the coin and rolling a 3 on the dice."
   ]
  },
  {
   "cell_type": "code",
   "execution_count": 4,
   "metadata": {},
   "outputs": [
    {
     "data": {
      "text/plain": [
       "0.08333333333333333"
      ]
     },
     "execution_count": 4,
     "metadata": {},
     "output_type": "execute_result"
    }
   ],
   "source": [
    "# Your code here\n",
    "# INDEPENDENT events here  P(Coin at heads INTERSECTION Dice at 3).. multiply two event probabilities\n",
    "p_coin = 1/2\n",
    "p_dice = 1/6\n",
    "p_head_and_3 = p_coin * p_dice\n",
    "p_head_and_3"
   ]
  },
  {
   "cell_type": "markdown",
   "metadata": {},
   "source": [
    "## Exercise 2\n",
    "\n",
    "\n",
    "After conducting a survey, one of the outcomes was that 8 out of 10 of the survey subjects liked chocolate chip cookies. If three survey subjects are chosen at random **with replacement**, what is the probability that all three like chocolate chip cookies?"
   ]
  },
  {
   "cell_type": "code",
   "execution_count": 5,
   "metadata": {},
   "outputs": [
    {
     "data": {
      "text/plain": [
       "0.5120000000000001"
      ]
     },
     "execution_count": 5,
     "metadata": {},
     "output_type": "execute_result"
    }
   ],
   "source": [
    "# Your code here\n",
    "# replacement literally means re-placing the item after you select it (put it back in). INDEPENDENT\n",
    "p_cookiefan = 8/10\n",
    "p_3backtoback_cookiefans = p_cookiefan * p_cookiefan * p_cookiefan\n",
    "p_3backtoback_cookiefans"
   ]
  },
  {
   "cell_type": "markdown",
   "metadata": {},
   "source": [
    "## Exercise 3\n",
    "70% of your friends like chocolate flavored ice cream, and 35% like chocolate AND like strawberry flavors.\n",
    "\n",
    "What percent of those who like chocolate also like strawberry?"
   ]
  },
  {
   "cell_type": "code",
   "execution_count": 7,
   "metadata": {},
   "outputs": [
    {
     "data": {
      "text/plain": [
       "0.5"
      ]
     },
     "execution_count": 7,
     "metadata": {},
     "output_type": "execute_result"
    }
   ],
   "source": [
    "# Your code here\n",
    "# DEPENDENT \n",
    "# P(Strawberry Fan GIVEN Choc Fan) = P(Strawberry Fan INTERSECTION/AND Choc Fan) / P(Choc Fan)\n",
    "p_likeboth = .35\n",
    "p_likechoc = .7\n",
    "p_chocstraw_fan = p_likeboth / p_likechoc\n",
    "p_chocstraw_fan"
   ]
  },
  {
   "cell_type": "markdown",
   "metadata": {},
   "source": [
    "50% of your friends who like chocolate also like strawberry\n",
    "\n",
    "## Exercise 4\n",
    "What is the probability of drawing 2 consecutive aces from a deck of cards. "
   ]
  },
  {
   "cell_type": "code",
   "execution_count": 11,
   "metadata": {},
   "outputs": [
    {
     "data": {
      "text/plain": [
       "0.004524886877828055"
      ]
     },
     "execution_count": 11,
     "metadata": {},
     "output_type": "execute_result"
    }
   ],
   "source": [
    "# Your code here\n",
    "# DEPENDENT -- Drawing reduces sample space\n",
    "\n",
    "'''\n",
    "P_A is drawing the first ace\n",
    "P_B_given_A is drawing a consecutive ace\n",
    "P_A_and_B is drawing back to back aces\n",
    "And so according to the product rule:\n",
    "P_A_and_B = P_A * P_B_given_A\n",
    "'''\n",
    "\n",
    "p_ace = 4/52\n",
    "p_secondace = 3/51\n",
    "\n",
    "p_backtobackaces = p_ace * p_secondace\n",
    "p_backtobackaces"
   ]
  },
  {
   "cell_type": "markdown",
   "metadata": {},
   "source": [
    "## Exercise 5\n",
    "In a manufacturing factory that produces a certain product, there are 100 units of the product, 5 of which are defective. We pick three units from the 100 units at random. \n",
    "\n",
    "What is the probability that none of them are defective?\n",
    "Hint: Use the chain rule here!"
   ]
  },
  {
   "cell_type": "code",
   "execution_count": 14,
   "metadata": {},
   "outputs": [
    {
     "data": {
      "text/plain": [
       "0.8559987631416203"
      ]
     },
     "execution_count": 14,
     "metadata": {},
     "output_type": "execute_result"
    }
   ],
   "source": [
    "# Your code here\n",
    "\n",
    "\n",
    "'''\n",
    "# Let us define Ai as the event that the ith chosen unit is not defective, for i=1,2,3. \n",
    "# We are interested in P(A1∩A2∩A3). Note that\n",
    "P_A1=95/100.\n",
    "\n",
    "#Given that the first chosen item was good, the second item will be chosen from 94 good units and 5 defective units\n",
    "P_A2_given_A1=94/99\n",
    "\n",
    "# Given that the first and second chosen items were okay, the third item will be chosen from 93 good units and 5 defective units, thus\n",
    "P_A3_given_A2_A1=93/98\n",
    "\n",
    "# Accoring to chain rule\n",
    "P_A1_A2_A3 = P_A1*P_A2_given_A1*P_A3_given_A2_A1\n",
    "\n",
    "P_A1_A2_A3\n",
    "'''\n",
    "\n",
    "p_1stgood = 95/100\n",
    "p_2ndgood = 94/99\n",
    "p_3rdgood = 93/98\n",
    "\n",
    "p_3backtobackgood =  p_1stgood * p_2ndgood * p_3rdgood\n",
    "p_3backtobackgood\n"
   ]
  },
  {
   "cell_type": "markdown",
   "metadata": {},
   "source": [
    "## Exercise 6\n",
    "\n",
    "Let's consider the example where 2 dice are thrown. Given that **at least one** of the dice has come up on a number higher than 4, what is the probability that the sum is 8?\n",
    "\n",
    "Let $i,j$ be the numbers shown on the dice. The events $A$ and $B$ are described below:\n",
    "\n",
    "* **Event $A$ is when either $i$ or $j$ is 5 or 6** (keep an eye on either - or)\n",
    "* **Event $B$ is when $i + j = 8$**\n",
    "\n",
    "\n",
    "* What is the size of sample space $\\Omega$ ?\n",
    "* What is $P(A \\cap B)$ ?\n",
    "* What is $P(A)$ ?\n",
    "* Use above to calculate $P(B \\mid A)$"
   ]
  },
  {
   "cell_type": "code",
   "execution_count": null,
   "metadata": {},
   "outputs": [],
   "source": [
    "# Your code here\n",
    "# Sample space is Dice1 {1,2,3,4,5,6}, Dice2(1,2,3,4,5,6) SIZE of Sample space is 6*6 = 36\n",
    "# P(A), P()\n",
    "'''\n",
    "p_B_given_A = (4/36)/(20/36) \n",
    "p_B_given_A  \n",
    "'''"
   ]
  },
  {
   "cell_type": "markdown",
   "metadata": {},
   "source": [
    "## Exercise 7\n",
    "\n",
    "Let's consider a credit card example. At a supermarket, customers are selected randomly, the store owner recorded whether costumers owned a Visa card (event A) or an Amex credit card (event B). Some customers own both cards.\n",
    "You can assume that:\n",
    "\n",
    "- $P(A)$ = 0.5\n",
    "- $P(B)$ = 0.4\n",
    "- both $A$ and $B$ = 0.25.\n",
    "\n",
    "\n",
    "With the knowledge we have about conditional probabilities, compute and interpret the following probabilities:\n",
    "\n",
    "- $P(B \\mid A)$\n",
    "- $P(B' \\mid A)$\n",
    "- $P(A \\mid B)$\n",
    "- $P(A' \\mid B)$\n"
   ]
  },
  {
   "cell_type": "code",
   "execution_count": 17,
   "metadata": {},
   "outputs": [
    {
     "name": "stdout",
     "output_type": "stream",
     "text": [
      "0.5\n",
      "0.5\n",
      "0.625\n",
      "0.375\n"
     ]
    }
   ],
   "source": [
    "# Your code here\n",
    "\n",
    "p_B_given_A = 0.25/0.5  \n",
    "p_B_given_A # correct answer: 0.5\n",
    "print(p_B_given_A)\n",
    "\n",
    "\n",
    "p_B_prime_given_A = 1 - 0.5\n",
    "p_B_prime_given_A # correct answer: 0.5\n",
    "print(p_B_prime_given_A)\n",
    "\n",
    "\n",
    "p_A_given_B = 0.25/0.4\n",
    "p_A_given_B # correct answer: 0.625\n",
    "print(p_A_given_B)\n",
    "\n",
    "p_A_prime_given_B = 1 - 0.625 \n",
    "p_A_prime_given_B  # correct answer: 0.375\n",
    "print(p_A_prime_given_B)\n"
   ]
  },
  {
   "cell_type": "markdown",
   "metadata": {},
   "source": [
    "## Summary \n",
    "\n",
    "In this lab, you practiced conditional probability and its theorem with some simple problems. The key takeaway from this lab is to be able to identify random events as dependent or independent and calculating the probability of their occurrence using appropriate methods. Next, you'll learn about some more conditional probability axioms, building on the knowledge we have so far. "
   ]
  }
 ],
 "metadata": {
  "kernelspec": {
   "display_name": "Python 3",
   "language": "python",
   "name": "python3"
  },
  "language_info": {
   "codemirror_mode": {
    "name": "ipython",
    "version": 3
   },
   "file_extension": ".py",
   "mimetype": "text/x-python",
   "name": "python",
   "nbconvert_exporter": "python",
   "pygments_lexer": "ipython3",
   "version": "3.6.9"
  },
  "toc": {
   "base_numbering": 1,
   "nav_menu": {},
   "number_sections": true,
   "sideBar": true,
   "skip_h1_title": false,
   "title_cell": "Table of Contents",
   "title_sidebar": "Contents",
   "toc_cell": false,
   "toc_position": {},
   "toc_section_display": true,
   "toc_window_display": false
  }
 },
 "nbformat": 4,
 "nbformat_minor": 2
}
